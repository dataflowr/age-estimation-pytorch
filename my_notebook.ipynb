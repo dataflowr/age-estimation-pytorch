{
 "cells": [
  {
   "cell_type": "code",
   "execution_count": 3,
   "id": "5df9d3d0",
   "metadata": {},
   "outputs": [],
   "source": [
    "import argparse\n",
    "import better_exceptions\n",
    "from pathlib import Path\n",
    "from collections import OrderedDict\n",
    "from tqdm import tqdm\n",
    "import numpy as np\n",
    "import torch\n",
    "import torch.nn as nn\n",
    "import torch.nn.parallel\n",
    "import torch.backends.cudnn as cudnn\n",
    "import torch.optim\n",
    "from torch.optim.lr_scheduler import StepLR\n",
    "import torch.utils.data\n",
    "from torch.utils.data import DataLoader\n",
    "import torch.nn.functional as F\n",
    "from torch.utils.tensorboard import SummaryWriter\n",
    "import pretrainedmodels\n",
    "import pretrainedmodels.utils\n",
    "from model import get_model\n",
    "from dataset import FaceDataset\n",
    "from defaults import _C as cfg\n",
    "from train import train, AverageMeter, validate"
   ]
  },
  {
   "cell_type": "code",
   "execution_count": 7,
   "id": "718e189b",
   "metadata": {},
   "outputs": [],
   "source": [
    "model = get_model()\n",
    "data_dir = 'appa-real-release'\n",
    "start_epoch = 0\n",
    "checkpoint_dir = Path('checkpoint')\n",
    "checkpoint_dir.mkdir(parents=True, exist_ok=True)\n",
    "resume_path = None\n",
    "tensorboard_dir = None\n",
    "opts = []\n",
    "multi_gpu = False\n",
    "\n",
    "if resume_path:\n",
    "    if Path(resume_path).is_file():\n",
    "        print(\"=> loading checkpoint '{}'\".format(resume_path))\n",
    "        checkpoint = torch.load(resume_path, map_location=\"cpu\")\n",
    "        start_epoch = checkpoint['epoch']\n",
    "        model.load_state_dict(checkpoint['state_dict'])\n",
    "        print(\"=> loaded checkpoint '{}' (epoch {})\"\n",
    "              .format(resume_path, checkpoint['epoch']))\n",
    "        optimizer.load_state_dict(checkpoint['optimizer_state_dict'])\n",
    "    else:\n",
    "        print(\"=> no checkpoint found at '{}'\".format(resume_path))\n",
    "\n",
    "img_size = 56\n",
    "age_stddev = 1.0\n",
    "batch_size = 128\n",
    "learning_rate = 1e-3\n",
    "step_size = 20\n",
    "decay_rate = 0.2\n",
    "num_epochs = 80"
   ]
  },
  {
   "cell_type": "code",
   "execution_count": 8,
   "id": "17e170aa",
   "metadata": {},
   "outputs": [],
   "source": [
    "train_dataset = FaceDataset(data_dir, \"train\", img_size=img_size, augment=True, age_stddev=age_stddev)\n",
    "train_loader = DataLoader(train_dataset, batch_size=batch_size, shuffle=True, drop_last=True)\n",
    "\n",
    "val_dataset = FaceDataset(data_dir, \"valid\", img_size=img_size, augment=False)\n",
    "val_loader = DataLoader(val_dataset, batch_size=batch_size, shuffle=False, drop_last=False)\n",
    "\n",
    "\n",
    "optimizer = torch.optim.Adam(model.parameters(), lr=learning_rate)\n",
    "device = \"cuda\" if torch.cuda.is_available() else \"cpu\"\n",
    "model = model.to(device)\n",
    "criterion = nn.CrossEntropyLoss().to(device)\n",
    "\n",
    "scheduler = StepLR(optimizer, step_size=step_size, gamma=decay_rate, last_epoch=start_epoch - 1)\n",
    "best_val_mae = 10000.0\n",
    "train_writer = None\n",
    "\n",
    "if tensorboard_dir is not None:\n",
    "    opts_prefix = \"_\".join(opts)\n",
    "    train_writer = SummaryWriter(log_dir=args.tensorboard + \"/\" + opts_prefix + \"_train\")\n",
    "    val_writer = SummaryWriter(log_dir=args.tensorboard + \"/\" + opts_prefix + \"_val\")"
   ]
  },
  {
   "cell_type": "code",
   "execution_count": null,
   "id": "5f0ae462",
   "metadata": {},
   "outputs": [
    {
     "name": "stderr",
     "output_type": "stream",
     "text": [
      "100%|████████| 31/31 [03:17<00:00,  6.36s/it, stage=train, epoch=0, loss=0.0331, acc=0.0358, correct=4, sample_num=128]\n",
      "100%|████████████| 12/12 [00:26<00:00,  2.17s/it, stage=val, epoch=0, loss=0.036, acc=0.0333, correct=5, sample_num=92]\n"
     ]
    },
    {
     "name": "stdout",
     "output_type": "stream",
     "text": [
      "=> [epoch 000] best val mae was improved from 10000.000 to 11.110\n"
     ]
    },
    {
     "name": "stderr",
     "output_type": "stream",
     "text": [
      "100%|████████| 31/31 [03:28<00:00,  6.71s/it, stage=train, epoch=1, loss=0.0316, acc=0.0381, correct=1, sample_num=128]\n",
      "100%|████████████| 12/12 [00:24<00:00,  2.06s/it, stage=val, epoch=1, loss=0.0317, acc=0.034, correct=3, sample_num=92]\n"
     ]
    },
    {
     "name": "stdout",
     "output_type": "stream",
     "text": [
      "=> [epoch 001] best val mae was improved from 11.110 to 10.569\n"
     ]
    },
    {
     "name": "stderr",
     "output_type": "stream",
     "text": [
      "100%|████████| 31/31 [03:15<00:00,  6.32s/it, stage=train, epoch=2, loss=0.0307, acc=0.0446, correct=6, sample_num=128]\n",
      "100%|█████████████| 12/12 [00:24<00:00,  2.07s/it, stage=val, epoch=2, loss=0.0306, acc=0.05, correct=5, sample_num=92]\n"
     ]
    },
    {
     "name": "stdout",
     "output_type": "stream",
     "text": [
      "=> [epoch 002] best val mae was improved from 10.569 to 9.841\n"
     ]
    },
    {
     "name": "stderr",
     "output_type": "stream",
     "text": [
      "100%|██████████| 31/31 [03:16<00:00,  6.35s/it, stage=train, epoch=3, loss=0.03, acc=0.0431, correct=8, sample_num=128]\n",
      "100%|███████████| 12/12 [00:25<00:00,  2.13s/it, stage=val, epoch=3, loss=0.0304, acc=0.0507, correct=2, sample_num=92]\n"
     ]
    },
    {
     "name": "stdout",
     "output_type": "stream",
     "text": [
      "=> [epoch 003] best val mae was improved from 9.841 to 8.723\n"
     ]
    },
    {
     "name": "stderr",
     "output_type": "stream",
     "text": [
      "100%|████████| 31/31 [03:14<00:00,  6.27s/it, stage=train, epoch=4, loss=0.0295, acc=0.0507, correct=8, sample_num=128]\n",
      "100%|███████████| 12/12 [00:25<00:00,  2.10s/it, stage=val, epoch=4, loss=0.0293, acc=0.0513, correct=2, sample_num=92]\n"
     ]
    },
    {
     "name": "stdout",
     "output_type": "stream",
     "text": [
      "=> [epoch 004] best val mae was improved from 8.723 to 7.873\n"
     ]
    },
    {
     "name": "stderr",
     "output_type": "stream",
     "text": [
      "100%|████████| 31/31 [03:15<00:00,  6.30s/it, stage=train, epoch=5, loss=0.0293, acc=0.0547, correct=8, sample_num=128]\n",
      "100%|███████████| 12/12 [00:24<00:00,  2.06s/it, stage=val, epoch=5, loss=0.0295, acc=0.0553, correct=5, sample_num=92]\n",
      "  0%|                                                                                           | 0/31 [00:00<?, ?it/s]"
     ]
    },
    {
     "name": "stdout",
     "output_type": "stream",
     "text": [
      "=> [epoch 005] best val mae was not improved from 7.873 (8.007)\n"
     ]
    },
    {
     "name": "stderr",
     "output_type": "stream",
     "text": [
      "100%|████████| 31/31 [03:13<00:00,  6.23s/it, stage=train, epoch=6, loss=0.0288, acc=0.0585, correct=7, sample_num=128]\n",
      "100%|████████████| 12/12 [00:24<00:00,  2.06s/it, stage=val, epoch=6, loss=0.0293, acc=0.058, correct=3, sample_num=92]\n"
     ]
    },
    {
     "name": "stdout",
     "output_type": "stream",
     "text": [
      "=> [epoch 006] best val mae was improved from 7.873 to 7.852\n"
     ]
    },
    {
     "name": "stderr",
     "output_type": "stream",
     "text": [
      "100%|████████| 31/31 [03:13<00:00,  6.23s/it, stage=train, epoch=7, loss=0.0285, acc=0.0585, correct=9, sample_num=128]\n",
      "100%|███████████| 12/12 [00:24<00:00,  2.06s/it, stage=val, epoch=7, loss=0.0289, acc=0.0707, correct=5, sample_num=92]\n"
     ]
    },
    {
     "name": "stdout",
     "output_type": "stream",
     "text": [
      "=> [epoch 007] best val mae was improved from 7.852 to 7.464\n"
     ]
    },
    {
     "name": "stderr",
     "output_type": "stream",
     "text": [
      "100%|████████| 31/31 [03:12<00:00,  6.22s/it, stage=train, epoch=8, loss=0.0282, acc=0.0602, correct=7, sample_num=128]\n",
      "100%|███████████| 12/12 [00:24<00:00,  2.05s/it, stage=val, epoch=8, loss=0.0287, acc=0.0693, correct=3, sample_num=92]\n",
      "  0%|                                                                                           | 0/31 [00:00<?, ?it/s]"
     ]
    },
    {
     "name": "stdout",
     "output_type": "stream",
     "text": [
      "=> [epoch 008] best val mae was not improved from 7.464 (7.671)\n"
     ]
    },
    {
     "name": "stderr",
     "output_type": "stream",
     "text": [
      "100%|████████| 31/31 [03:12<00:00,  6.22s/it, stage=train, epoch=9, loss=0.0279, acc=0.0628, correct=8, sample_num=128]\n",
      "100%|███████████| 12/12 [00:24<00:00,  2.06s/it, stage=val, epoch=9, loss=0.0285, acc=0.0713, correct=6, sample_num=92]\n",
      "  0%|                                                                                           | 0/31 [00:00<?, ?it/s]"
     ]
    },
    {
     "name": "stdout",
     "output_type": "stream",
     "text": [
      "=> [epoch 009] best val mae was not improved from 7.464 (7.603)\n"
     ]
    },
    {
     "name": "stderr",
     "output_type": "stream",
     "text": [
      "100%|███████| 31/31 [03:29<00:00,  6.75s/it, stage=train, epoch=10, loss=0.0278, acc=0.0559, correct=6, sample_num=128]\n",
      "100%|██████████| 12/12 [00:28<00:00,  2.39s/it, stage=val, epoch=10, loss=0.0287, acc=0.0567, correct=2, sample_num=92]\n",
      "  0%|                                                                                           | 0/31 [00:00<?, ?it/s]"
     ]
    },
    {
     "name": "stdout",
     "output_type": "stream",
     "text": [
      "=> [epoch 010] best val mae was not improved from 7.464 (7.871)\n"
     ]
    },
    {
     "name": "stderr",
     "output_type": "stream",
     "text": [
      " 71%|████▉  | 22/31 [02:33<01:02,  6.94s/it, stage=train, epoch=11, loss=0.0277, acc=0.0661, correct=8, sample_num=128]"
     ]
    }
   ],
   "source": [
    "for epoch in range(start_epoch, num_epochs):\n",
    "    # train\n",
    "    train_loss, train_acc = train(train_loader, model, criterion, optimizer, epoch, device)\n",
    "\n",
    "    # validate\n",
    "    val_loss, val_acc, val_mae = validate(val_loader, model, criterion, epoch, device)\n",
    "\n",
    "    if tensorboard_dir is not None:\n",
    "        train_writer.add_scalar(\"loss\", train_loss, epoch)\n",
    "        train_writer.add_scalar(\"acc\", train_acc, epoch)\n",
    "        val_writer.add_scalar(\"loss\", val_loss, epoch)\n",
    "        val_writer.add_scalar(\"acc\", val_acc, epoch)\n",
    "        val_writer.add_scalar(\"mae\", val_mae, epoch)\n",
    "\n",
    "    # checkpoint\n",
    "    if val_mae < best_val_mae:\n",
    "        print(f\"=> [epoch {epoch:03d}] best val mae was improved from {best_val_mae:.3f} to {val_mae:.3f}\")\n",
    "        model_state_dict = model.module.state_dict() if multi_gpu else model.state_dict()\n",
    "        torch.save(\n",
    "            {\n",
    "                'epoch': epoch + 1,\n",
    "                'arch': cfg.MODEL.ARCH,\n",
    "                'state_dict': model_state_dict,\n",
    "                'optimizer_state_dict': optimizer.state_dict()\n",
    "            },\n",
    "            str(checkpoint_dir.joinpath(\"epoch{:03d}_{:.5f}_{:.4f}.pth\".format(epoch, val_loss, val_mae)))\n",
    "        )\n",
    "        best_val_mae = val_mae\n",
    "    else:\n",
    "        print(f\"=> [epoch {epoch:03d}] best val mae was not improved from {best_val_mae:.3f} ({val_mae:.3f})\")\n",
    "\n",
    "    # adjust learning rate\n",
    "    scheduler.step()\n",
    "\n",
    "print(\"=> training finished\")\n",
    "print(f\"additional opts: {opts}\")\n",
    "print(f\"best val mae: {best_val_mae:.3f}\")"
   ]
  },
  {
   "cell_type": "code",
   "execution_count": null,
   "id": "27b76727",
   "metadata": {},
   "outputs": [],
   "source": []
  },
  {
   "cell_type": "code",
   "execution_count": null,
   "id": "b988a1c1",
   "metadata": {},
   "outputs": [],
   "source": []
  }
 ],
 "metadata": {
  "kernelspec": {
   "display_name": "dldiy",
   "language": "python",
   "name": "dldiy"
  },
  "language_info": {
   "codemirror_mode": {
    "name": "ipython",
    "version": 3
   },
   "file_extension": ".py",
   "mimetype": "text/x-python",
   "name": "python",
   "nbconvert_exporter": "python",
   "pygments_lexer": "ipython3",
   "version": "3.6.8"
  }
 },
 "nbformat": 4,
 "nbformat_minor": 5
}
